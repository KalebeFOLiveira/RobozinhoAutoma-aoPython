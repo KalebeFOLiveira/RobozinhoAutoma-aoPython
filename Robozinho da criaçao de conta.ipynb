{
 "cells": [
  {
   "cell_type": "code",
   "execution_count": 2,
   "id": "60b2a1b0",
   "metadata": {},
   "outputs": [
    {
     "ename": "ModuleNotFoundError",
     "evalue": "No module named 'selenium'",
     "output_type": "error",
     "traceback": [
      "\u001b[1;31m---------------------------------------------------------------------------\u001b[0m",
      "\u001b[1;31mModuleNotFoundError\u001b[0m                       Traceback (most recent call last)",
      "Cell \u001b[1;32mIn [2], line 1\u001b[0m\n\u001b[1;32m----> 1\u001b[0m \u001b[38;5;28;01mfrom\u001b[39;00m \u001b[38;5;21;01mselenium\u001b[39;00m \u001b[38;5;28;01mimport\u001b[39;00m webdriver\n\u001b[0;32m      2\u001b[0m \u001b[38;5;28;01mfrom\u001b[39;00m \u001b[38;5;21;01mselenium\u001b[39;00m\u001b[38;5;21;01m.\u001b[39;00m\u001b[38;5;21;01mwebdriver\u001b[39;00m\u001b[38;5;21;01m.\u001b[39;00m\u001b[38;5;21;01mcommon\u001b[39;00m\u001b[38;5;21;01m.\u001b[39;00m\u001b[38;5;21;01mby\u001b[39;00m \u001b[38;5;28;01mimport\u001b[39;00m By\n\u001b[0;32m      3\u001b[0m \u001b[38;5;28;01mfrom\u001b[39;00m \u001b[38;5;21;01mselenium\u001b[39;00m\u001b[38;5;21;01m.\u001b[39;00m\u001b[38;5;21;01mwebdriver\u001b[39;00m\u001b[38;5;21;01m.\u001b[39;00m\u001b[38;5;21;01mcommon\u001b[39;00m\u001b[38;5;21;01m.\u001b[39;00m\u001b[38;5;21;01mkeys\u001b[39;00m \u001b[38;5;28;01mimport\u001b[39;00m Keys\n",
      "\u001b[1;31mModuleNotFoundError\u001b[0m: No module named 'selenium'"
     ]
    }
   ],
   "source": [
    "from selenium import webdriver\n",
    "from selenium.webdriver.common.by import By\n",
    "from selenium.webdriver.common.keys import Keys\n",
    "from selenium.webdriver.support.ui import WebDriverWait\n",
    "from selenium.webdriver.support import expected_conditions as EC\n",
    "from selenium.webdriver.support.ui import WebDriverWait\n",
    "import pandas as pd\n",
    "\n",
    "#cadastrar com automaçao\n",
    "nome_do_arquivo = \"Usuarios.xlsx\" #Arquivo excel\n",
    "url_do_cadastro = \"http://confirmaremail.test/register\" #url para acessar o cadastro\n",
    "df = pd.read_excel(nome_do_arquivo) #Ler excel\n",
    "for index,row in df.iterrows():\n",
    "    chrome = webdriver.Chrome(executable_path='chromedriver.exe') \n",
    "    chrome.get(url_do_cadastro)\n",
    "    chrome.implicitly_wait(10) #Esperar ate 10 segundos para procurar iniciar o cadastro\n",
    "    usuario_nome = chrome.find_element(\"xpath\",'//*[@id=\"name\"]') #Selecionar aba do nome\n",
    "    usuario_email = chrome.find_element(\"xpath\",'//*[@id=\"email\"]') #Selecionar aba do email\n",
    "    usuario_senha = chrome.find_element(\"xpath\",'//*[@id=\"password\"]') #Selecionar aba da senha\n",
    "    confirmar_senha = chrome.find_element(\"xpath\",'//*[@id=\"password_confirmation\"]') #Selecionar aba de confirmar senha\n",
    "    usuario_nome.send_keys(row[\"Nome\"]) #Colocar seu nome\n",
    "    usuario_email.send_keys(row[\"E-mail\"]) #Colocar seu email\n",
    "    usuario_senha.send_keys(row[\"Senha\"]) #Colocar sua senha\n",
    "    confirmar_senha.send_keys(row[\"Senha\"]) #Confirmar sua senha\n",
    "    registro = chrome.find_element(\"xpath\",'/html/body/div[1]/div/div[2]/form/div[5]/button') #procurar botao de registro\n",
    "    registro.click() #Selecionar botao \"register\"\n",
    "    chrome.quit #termino do cadastro e inicio do loop com os dados do excel"
   ]
  }
 ],
 "metadata": {
  "kernelspec": {
   "display_name": "Python 3.10.7 64-bit",
   "language": "python",
   "name": "python3"
  },
  "language_info": {
   "codemirror_mode": {
    "name": "ipython",
    "version": 3
   },
   "file_extension": ".py",
   "mimetype": "text/x-python",
   "name": "python",
   "nbconvert_exporter": "python",
   "pygments_lexer": "ipython3",
   "version": "3.10.7"
  },
  "vscode": {
   "interpreter": {
    "hash": "339f6bb2dccda8737f2807b76b31e82437ce8332386a5e0a6cf1c4033d3955ed"
   }
  }
 },
 "nbformat": 4,
 "nbformat_minor": 5
}
